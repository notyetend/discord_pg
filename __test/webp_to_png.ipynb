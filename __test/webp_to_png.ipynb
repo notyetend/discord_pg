{
 "cells": [
  {
   "cell_type": "code",
   "execution_count": 2,
   "metadata": {},
   "outputs": [],
   "source": [
    "from PIL import Image\n",
    "import os\n",
    "\n",
    "def convert_webp_to_png(input_dir, output_dir=None):\n",
    "    \"\"\"\n",
    "    WebP 파일들을 PNG 형식으로 변환하는 함수\n",
    "    \n",
    "    Args:\n",
    "        input_dir (str): WebP 파일이 있는 디렉토리 경로\n",
    "        output_dir (str, optional): 변환된 PNG 파일을 저장할 디렉토리 경로\n",
    "                                  지정하지 않으면 input_dir과 동일한 위치에 저장\n",
    "    \"\"\"\n",
    "    # output_dir이 지정되지 않은 경우 input_dir을 사용\n",
    "    if output_dir is None:\n",
    "        output_dir = input_dir\n",
    "    \n",
    "    # output_dir이 존재하지 않으면 생성\n",
    "    if not os.path.exists(output_dir):\n",
    "        os.makedirs(output_dir)\n",
    "    \n",
    "    # 입력 디렉토리의 모든 파일 검사\n",
    "    for filename in os.listdir(input_dir):\n",
    "        if filename.lower().endswith('.webp'):\n",
    "            # 파일 경로 설정\n",
    "            input_path = os.path.join(input_dir, filename)\n",
    "            output_filename = os.path.splitext(filename)[0] + '.png'\n",
    "            output_path = os.path.join(output_dir, output_filename)\n",
    "            \n",
    "            try:\n",
    "                # WebP 파일 열기\n",
    "                image = Image.open(input_path)\n",
    "                \n",
    "                # RGBA 모드인 경우 RGB로 변환\n",
    "                if image.mode == 'RGBA':\n",
    "                    # 흰색 배경 생성\n",
    "                    background = Image.new('RGB', image.size, (255, 255, 255))\n",
    "                    # 알파 채널을 고려하여 이미지 합성\n",
    "                    background.paste(image, mask=image.split()[3])\n",
    "                    image = background\n",
    "                \n",
    "                # PNG로 저장\n",
    "                image.save(output_path, 'PNG')\n",
    "                print(f'변환 완료: {filename} -> {output_filename}')\n",
    "                \n",
    "            except Exception as e:\n",
    "                print(f'오류 발생 ({filename}): {str(e)}')\n"
   ]
  },
  {
   "cell_type": "code",
   "execution_count": 3,
   "metadata": {},
   "outputs": [
    {
     "name": "stdout",
     "output_type": "stream",
     "text": [
      "변환 완료: digitama.webp -> digitama.png\n",
      "변환 완료: chrysalimon.webp -> chrysalimon.png\n",
      "변환 완료: infermon.webp -> infermon.png\n",
      "변환 완료: tsumemon.webp -> tsumemon.png\n",
      "변환 완료: keramon.webp -> keramon.png\n",
      "변환 완료: diablomon.webp -> diablomon.png\n",
      "변환 완료: kuramon.webp -> kuramon.png\n"
     ]
    }
   ],
   "source": [
    "convert_webp_to_png(\"../digimon_game/assets/images\", \"../digimon_game/assets/images\")"
   ]
  },
  {
   "cell_type": "code",
   "execution_count": null,
   "metadata": {},
   "outputs": [],
   "source": []
  }
 ],
 "metadata": {
  "kernelspec": {
   "display_name": "test1",
   "language": "python",
   "name": "python3"
  },
  "language_info": {
   "codemirror_mode": {
    "name": "ipython",
    "version": 3
   },
   "file_extension": ".py",
   "mimetype": "text/x-python",
   "name": "python",
   "nbconvert_exporter": "python",
   "pygments_lexer": "ipython3",
   "version": "3.12.7"
  }
 },
 "nbformat": 4,
 "nbformat_minor": 2
}
