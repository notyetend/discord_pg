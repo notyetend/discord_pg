{
 "cells": [
  {
   "cell_type": "code",
   "execution_count": 1,
   "metadata": {},
   "outputs": [
    {
     "name": "stdout",
     "output_type": "stream",
     "text": [
      "merge completed.\n"
     ]
    }
   ],
   "source": [
    "import os\n",
    "from pathlib import Path\n",
    "from typing import List, Union\n",
    "import ast\n",
    "from datetime import datetime\n",
    "\n",
    "def find_python_files(package_path: Union[str, Path]) -> List[str]:\n",
    "    if isinstance(package_path, str):\n",
    "        package_path = Path(package_path)\n",
    "    \n",
    "    python_files = []\n",
    "    if not package_path.exists():\n",
    "        raise FileNotFoundError(f\"경로를 찾을 수 없습니다: {package_path}\")\n",
    "    \n",
    "    for root, dirs, files in os.walk(package_path):\n",
    "        if '__pycache__' in dirs:\n",
    "            dirs.remove('__pycache__')\n",
    "        for file in files:\n",
    "            if file.endswith('.py') and file not in [\"merged_output.py\"] and not file.startswith(\"test_\"):\n",
    "                full_path = os.path.join(root, file)\n",
    "                python_files.append(os.path.abspath(full_path))\n",
    "    \n",
    "    return sorted(python_files)\n",
    "\n",
    "def merge_python_files(files: List[str], output_path: str) -> None:\n",
    "    merged_content = [f\"# Generated on {datetime.now().strftime('%Y-%m-%d %H:%M:%S')}\\n\"]\n",
    "    imports = set()\n",
    "    \n",
    "    for file_path in files:\n",
    "        with open(file_path, 'r', encoding='utf-8') as f:\n",
    "            content = f.read()\n",
    "        \n",
    "        file_name = os.path.basename(file_path)\n",
    "        merged_content.append(f\"\\n# ===== {file_name} =====\\n\")\n",
    "        \n",
    "        try:\n",
    "            tree = ast.parse(content)\n",
    "            for node in ast.walk(tree):\n",
    "                if isinstance(node, (ast.Import, ast.ImportFrom)):\n",
    "                    imports.add(ast.unparse(node))\n",
    "            \n",
    "            merged_content.append(content)\n",
    "        except Exception as e:\n",
    "            print(f\"Warning: {file_path} 처리 중 오류 발생: {str(e)}\")\n",
    "            merged_content.append(content)\n",
    "    \n",
    "    imports_content = \"\\n\".join(sorted(imports)) + \"\\n\\n\" if imports else \"\"\n",
    "    \n",
    "    with open(output_path, 'w', encoding='utf-8') as f:\n",
    "        f.write(imports_content + \"\".join(merged_content))\n",
    "        print(\"merge completed.\")\n",
    "\n",
    "\n",
    "package_path = '..'\n",
    "output_file = 'merged_output.py'\n",
    "\n",
    "files = find_python_files(package_path)\n",
    "merge_python_files(files, output_file)"
   ]
  },
  {
   "cell_type": "code",
   "execution_count": null,
   "metadata": {},
   "outputs": [],
   "source": []
  }
 ],
 "metadata": {
  "kernelspec": {
   "display_name": "test1",
   "language": "python",
   "name": "python3"
  },
  "language_info": {
   "codemirror_mode": {
    "name": "ipython",
    "version": 3
   },
   "file_extension": ".py",
   "mimetype": "text/x-python",
   "name": "python",
   "nbconvert_exporter": "python",
   "pygments_lexer": "ipython3",
   "version": "3.12.7"
  }
 },
 "nbformat": 4,
 "nbformat_minor": 2
}
